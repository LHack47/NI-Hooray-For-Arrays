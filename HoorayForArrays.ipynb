{
 "cells": [
  {
   "cell_type": "markdown",
   "metadata": {
    "raw_mimetype": "text/markdown",
    "slideshow": {
     "slide_type": "slide"
    }
   },
   "source": [
    "# Hooray for Arrays!\n",
    "\n",
    "### Tips and Tricks for JavaScript's Best Object \n",
    "***\n",
    "Erin McKean"
   ]
  },
  {
   "cell_type": "markdown",
   "metadata": {
    "slideshow": {
     "slide_type": "slide"
    }
   },
   "source": [
    "“For all knowledge and wonder (which is the seed of knowledge) is an impression of pleasure in itself.”\n",
    "\n",
    "—Francis Bacon"
   ]
  },
  {
   "cell_type": "markdown",
   "metadata": {
    "slideshow": {
     "slide_type": "slide"
    }
   },
   "source": [
    "### What is an array?"
   ]
  },
  {
   "cell_type": "markdown",
   "metadata": {
    "slideshow": {
     "slide_type": "fragment"
    }
   },
   "source": [
    "“An array is a linear allocation of memory in which elements are accessed by integers that are used to compute offsets. Arrays can be very fast data structures. **Unfortunately, JavaScript does not have anything like this kind of array**.”\n",
    "\n",
    "—Douglas Crockford, _JavaScript: The Good Parts_ \\(O’Reilly, 2008\\)"
   ]
  },
  {
   "cell_type": "markdown",
   "metadata": {
    "slideshow": {
     "slide_type": "slide"
    }
   },
   "source": [
    "### What is a *JavaScript* array?"
   ]
  },
  {
   "cell_type": "markdown",
   "metadata": {
    "slideshow": {
     "slide_type": "fragment"
    }
   },
   "source": [
    "The JavaScript **Array** object is a global object that is used in the construction of arrays; which are high-level, list-like objects. \n",
    "\n",
    "—MDN web docs, _developer.mozilla.org_"
   ]
  },
  {
   "cell_type": "markdown",
   "metadata": {
    "slideshow": {
     "slide_type": "slide"
    }
   },
   "source": [
    "<div style=\"width: 1200px;\">\n",
    "    <div  style=\"width: 700px;  margin: 0 auto;\">\n",
    "    <div style=\"width: 500px; height: 400px; float: left;\" ><div style=\"text-align: center\"><img src=\"images/array-hat.png\" alt=\"object wearing an array hat\" style=\"width: 500px;\"/></div>\n",
    "</div>\n",
    "    <div style=\"width: 200px; height: 400px; float: left;\"><div style=\"text-align: center; font-size: large\"> an array is an object <br> wearing an array hat </div></div></div>\n",
    "    </div>\n",
    "</div>\n",
    "\n"
   ]
  },
  {
   "cell_type": "markdown",
   "metadata": {
    "slideshow": {
     "slide_type": "slide"
    }
   },
   "source": [
    "### Identifying arrays"
   ]
  },
  {
   "cell_type": "code",
   "execution_count": null,
   "metadata": {
    "scrolled": true,
    "slideshow": {
     "slide_type": "fragment"
    }
   },
   "outputs": [],
   "source": [
    "//what does an Array think it is?\n",
    "var iAmAnArray = ['yes', 'I', 'am'];\n",
    "console.log(typeof iAmAnArray);"
   ]
  },
  {
   "cell_type": "code",
   "execution_count": null,
   "metadata": {
    "scrolled": true,
    "slideshow": {
     "slide_type": "fragment"
    }
   },
   "outputs": [],
   "source": [
    "//use isArray() instead\n",
    "console.log(Array.isArray(iAmAnArray));"
   ]
  },
  {
   "cell_type": "markdown",
   "metadata": {
    "slideshow": {
     "slide_type": "slide"
    }
   },
   "source": [
    "### Creating arrays"
   ]
  },
  {
   "cell_type": "code",
   "execution_count": null,
   "metadata": {
    "scrolled": true,
    "slideshow": {
     "slide_type": "fragment"
    }
   },
   "outputs": [],
   "source": [
    "//initialize an empty array\n",
    "var thisArray = [];\n",
    "console.log(thisArray);"
   ]
  },
  {
   "cell_type": "code",
   "execution_count": null,
   "metadata": {
    "scrolled": true,
    "slideshow": {
     "slide_type": "fragment"
    }
   },
   "outputs": [],
   "source": [
    "console.log(\"The length of thisArray is: \" + thisArray.length);"
   ]
  },
  {
   "cell_type": "code",
   "execution_count": null,
   "metadata": {
    "scrolled": true,
    "slideshow": {
     "slide_type": "slide"
    }
   },
   "outputs": [],
   "source": [
    "// in ES6 we now have Array.from()\n",
    "var longString = \"It was the best of times, it was the worst of times, it was the age of wisdom, it was the age of foolishness, it was the epoch of belief, it was the epoch of incredulity, it was the season of Light, it was the season of Darkness, it was the spring of hope, it was the winter of despair, we had everything before us, we had nothing before us, we were all going direct to Heaven, we were all going direct the other way – in short, the period was so far like the present period, that some of its noisiest authorities insisted on its being received, for good or for evil, in the superlative degree of comparison only.\"; \n",
    "var longStringArray = Array.from(longString);\n",
    "console.log(longStringArray);"
   ]
  },
  {
   "cell_type": "code",
   "execution_count": null,
   "metadata": {
    "scrolled": true,
    "slideshow": {
     "slide_type": "slide"
    }
   },
   "outputs": [],
   "source": [
    "//we also now have the 'spread' (...) operator:\n",
    "var anotherLongStringArray = [...longString];\n",
    "console.log(anotherLongStringArray);"
   ]
  },
  {
   "cell_type": "markdown",
   "metadata": {
    "slideshow": {
     "slide_type": "slide"
    }
   },
   "source": [
    "### Using [ ] vs **new** Array"
   ]
  },
  {
   "cell_type": "code",
   "execution_count": null,
   "metadata": {
    "scrolled": true,
    "slideshow": {
     "slide_type": "fragment"
    }
   },
   "outputs": [],
   "source": [
    "// why not new Array()?\n",
    "var anArray = new Array('a');\n",
    "console.log(anArray);"
   ]
  },
  {
   "cell_type": "code",
   "execution_count": null,
   "metadata": {
    "scrolled": true,
    "slideshow": {
     "slide_type": "fragment"
    }
   },
   "outputs": [],
   "source": [
    "//here is the gotcha!\n",
    "var thatArray = new Array(3);\n",
    "console.log(thatArray);\n",
    "console.log(\"The length of thatArray is: \" + thatArray.length);"
   ]
  },
  {
   "cell_type": "code",
   "execution_count": null,
   "metadata": {
    "scrolled": true,
    "slideshow": {
     "slide_type": "fragment"
    }
   },
   "outputs": [],
   "source": [
    "// ES6 gives us Array.of to help fix this\n",
    "var arrayOf3 = Array.of(3);\n",
    "console.log(arrayOf3);"
   ]
  },
  {
   "cell_type": "markdown",
   "metadata": {
    "collapsed": true,
    "slideshow": {
     "slide_type": "slide"
    }
   },
   "source": [
    "### How long is ~~a piece of string~~ an array?"
   ]
  },
  {
   "cell_type": "code",
   "execution_count": null,
   "metadata": {
    "scrolled": true,
    "slideshow": {
     "slide_type": "fragment"
    }
   },
   "outputs": [],
   "source": [
    "// array length is index of last array element + 1\n",
    "var countingSheep = ['yan', 'tan', 'tethera', 'methera', 'pip'];\n",
    "console.log(\"We've counted \" + countingSheep.length + \" sheep.\");"
   ]
  },
  {
   "cell_type": "code",
   "execution_count": null,
   "metadata": {
    "scrolled": true,
    "slideshow": {
     "slide_type": "fragment"
    }
   },
   "outputs": [],
   "source": [
    "// you can add length\n",
    "countingSheep.length = 6;\n",
    "console.log(countingSheep);\n",
    "console.log(\"We've counted \" + countingSheep.length + \" sheep.\");"
   ]
  },
  {
   "cell_type": "code",
   "execution_count": null,
   "metadata": {
    "scrolled": true,
    "slideshow": {
     "slide_type": "slide"
    }
   },
   "outputs": [],
   "source": [
    "// not too much length, though!\n",
    "var superLongArray = [];\n",
    "superLongArray.length = 4294967296;\n",
    "console.log(superLongArray.length);"
   ]
  },
  {
   "cell_type": "code",
   "execution_count": null,
   "metadata": {
    "scrolled": true,
    "slideshow": {
     "slide_type": "slide"
    }
   },
   "outputs": [],
   "source": [
    "// can't be negative\n",
    "var negativeArray = [];\n",
    "negativeArray.length = -5;"
   ]
  },
  {
   "cell_type": "code",
   "execution_count": null,
   "metadata": {
    "scrolled": true,
    "slideshow": {
     "slide_type": "slide"
    }
   },
   "outputs": [],
   "source": [
    "// or decimal\n",
    "var decimalArray = [];\n",
    "decimalArray.length = 3.1416;"
   ]
  },
  {
   "cell_type": "code",
   "execution_count": null,
   "metadata": {
    "scrolled": true,
    "slideshow": {
     "slide_type": "slide"
    }
   },
   "outputs": [],
   "source": [
    "// you can truncate an array\n",
    "countingSheep.length = 4;\n",
    "console.log(countingSheep);"
   ]
  },
  {
   "cell_type": "code",
   "execution_count": null,
   "metadata": {
    "scrolled": true,
    "slideshow": {
     "slide_type": "fragment"
    }
   },
   "outputs": [],
   "source": [
    "// deleting from an array doesn't shorten the array\n",
    "delete countingSheep[1];\n",
    "console.log(countingSheep, countingSheep.length)"
   ]
  },
  {
   "cell_type": "markdown",
   "metadata": {
    "slideshow": {
     "slide_type": "slide"
    }
   },
   "source": [
    "### The ins and outs of adding and removing array items"
   ]
  },
  {
   "cell_type": "code",
   "execution_count": null,
   "metadata": {
    "scrolled": true,
    "slideshow": {
     "slide_type": "fragment"
    }
   },
   "outputs": [],
   "source": [
    "//you can always just add at the index:\n",
    "countingSheep[1] = 'tan';\n",
    "console.log(countingSheep);"
   ]
  },
  {
   "cell_type": "code",
   "execution_count": null,
   "metadata": {
    "scrolled": true,
    "slideshow": {
     "slide_type": "slide"
    }
   },
   "outputs": [],
   "source": [
    "// better ways to remove items from an array\n",
    "console.log(countingSheep.shift());\n",
    "console.log(countingSheep);"
   ]
  },
  {
   "cell_type": "code",
   "execution_count": null,
   "metadata": {
    "scrolled": true,
    "slideshow": {
     "slide_type": "fragment"
    }
   },
   "outputs": [],
   "source": [
    "//pop()\n",
    "console.log(countingSheep.pop());\n",
    "console.log(countingSheep);"
   ]
  },
  {
   "cell_type": "code",
   "execution_count": null,
   "metadata": {
    "scrolled": true,
    "slideshow": {
     "slide_type": "fragment"
    }
   },
   "outputs": [],
   "source": [
    "//unshift()\n",
    "countingSheep.unshift('yan');\n",
    "console.log(countingSheep);"
   ]
  },
  {
   "cell_type": "code",
   "execution_count": null,
   "metadata": {
    "scrolled": true,
    "slideshow": {
     "slide_type": "fragment"
    }
   },
   "outputs": [],
   "source": [
    "//push()\n",
    "countingSheep.push('methera', 'pip');\n",
    "console.log(countingSheep);"
   ]
  },
  {
   "cell_type": "code",
   "execution_count": null,
   "metadata": {
    "scrolled": true,
    "slideshow": {
     "slide_type": "slide"
    }
   },
   "outputs": [],
   "source": [
    "// shift and pop on empty arrays\n",
    "var emptyArray = [];\n",
    "console.log(emptyArray.shift());"
   ]
  },
  {
   "cell_type": "code",
   "execution_count": null,
   "metadata": {
    "slideshow": {
     "slide_type": "fragment"
    }
   },
   "outputs": [],
   "source": [
    "console.log(emptyArray.pop());"
   ]
  },
  {
   "cell_type": "code",
   "execution_count": null,
   "metadata": {
    "scrolled": true,
    "slideshow": {
     "slide_type": "slide"
    }
   },
   "outputs": [],
   "source": [
    "// be precise with splice\n",
    "console.log(countingSheep);\n",
    "countingSheep.splice(1, 1);\n",
    "console.log(countingSheep);"
   ]
  },
  {
   "cell_type": "code",
   "execution_count": null,
   "metadata": {
    "scrolled": true,
    "slideshow": {
     "slide_type": "fragment"
    }
   },
   "outputs": [],
   "source": [
    "// splice adds, too\n",
    "countingSheep.splice(1, 0, 'tan');\n",
    "console.log(countingSheep);"
   ]
  },
  {
   "cell_type": "code",
   "execution_count": null,
   "metadata": {
    "scrolled": true,
    "slideshow": {
     "slide_type": "fragment"
    }
   },
   "outputs": [],
   "source": [
    "//can splice from the end\n",
    "countingSheep.splice(-2, 1);\n",
    "console.log(countingSheep);"
   ]
  },
  {
   "cell_type": "code",
   "execution_count": null,
   "metadata": {
    "scrolled": true,
    "slideshow": {
     "slide_type": "slide"
    }
   },
   "outputs": [],
   "source": [
    "// push arrays together with concat\n",
    "var moreSheep = ['sethera', 'lethera', 'hovera'];\n",
    "var lotsOfSheep = countingSheep.concat(moreSheep);\n",
    "console.log(lotsOfSheep);"
   ]
  },
  {
   "cell_type": "code",
   "execution_count": null,
   "metadata": {
    "scrolled": true,
    "slideshow": {
     "slide_type": "slide"
    }
   },
   "outputs": [],
   "source": [
    "// make an array into a string\n",
    "console.log(lotsOfSheep.toString());"
   ]
  },
  {
   "cell_type": "code",
   "execution_count": null,
   "metadata": {
    "scrolled": true,
    "slideshow": {
     "slide_type": "fragment"
    }
   },
   "outputs": [],
   "source": [
    "// get the same result with\n",
    "console.log(lotsOfSheep.join());"
   ]
  },
  {
   "cell_type": "code",
   "execution_count": null,
   "metadata": {
    "scrolled": true,
    "slideshow": {
     "slide_type": "fragment"
    }
   },
   "outputs": [],
   "source": [
    "//you can change the join separator\n",
    "console.log(lotsOfSheep.join(', '));"
   ]
  },
  {
   "cell_type": "code",
   "execution_count": null,
   "metadata": {
    "scrolled": true,
    "slideshow": {
     "slide_type": "fragment"
    }
   },
   "outputs": [],
   "source": [
    "//undefined or null elements are converted to an empty string\n",
    "delete lotsOfSheep[3];\n",
    "console.log(lotsOfSheep);\n",
    "console.log(lotsOfSheep.join());"
   ]
  },
  {
   "cell_type": "code",
   "execution_count": null,
   "metadata": {
    "scrolled": true,
    "slideshow": {
     "slide_type": "slide"
    }
   },
   "outputs": [],
   "source": [
    "// extending arrays is easy with Array.copyWithin in ES6\n",
    "var laugh = ['ha', 'ha', 'hee', 'hee'];\n",
    "console.log(laugh.copyWithin(2, 0, 2));\n",
    "/* take two elements starting at 0 and insert them at 2\n",
    "will overwrite, not extend */"
   ]
  },
  {
   "cell_type": "code",
   "execution_count": null,
   "metadata": {
    "scrolled": true,
    "slideshow": {
     "slide_type": "fragment"
    }
   },
   "outputs": [],
   "source": [
    "// fill arrays quickly with Array.fill in ES6\n",
    "var evilLaugh = new Array(25);\n",
    "//^^ we actually want this new Array behavior here\n",
    "evilLaugh.fill('ha');\n",
    "console.log(evilLaugh);"
   ]
  },
  {
   "cell_type": "markdown",
   "metadata": {
    "slideshow": {
     "slide_type": "slide"
    }
   },
   "source": [
    "### Finding the right 'find' method"
   ]
  },
  {
   "cell_type": "code",
   "execution_count": null,
   "metadata": {
    "scrolled": true,
    "slideshow": {
     "slide_type": "notes"
    }
   },
   "outputs": [],
   "source": [
    "var taleOfTwoArrays = longString.split(\" \");\n",
    "console.log(taleOfTwoArrays, taleOfTwoArrays.length)\n",
    "var taleArray1 = [];\n",
    "var taleArray2 = [];\n",
    "\n",
    "// spoilers!\n",
    "taleOfTwoArrays.forEach(item =>{\n",
    "    if (Math.random() > .5) {\n",
    "        taleArray1.push(item)\n",
    "    } else {\n",
    "        taleArray2.push(item)\n",
    "    }\n",
    "});"
   ]
  },
  {
   "cell_type": "code",
   "execution_count": null,
   "metadata": {
    "scrolled": true,
    "slideshow": {
     "slide_type": "slide"
    }
   },
   "outputs": [],
   "source": [
    "//use find() when you want to find the result of a function\n",
    "//taleArray1 has a random selection of words from that A Tale of Two Cities quote\n",
    "console.log(taleArray1.find(item => {\n",
    "  return item[0] === \"w\";\n",
    "}));"
   ]
  },
  {
   "cell_type": "code",
   "execution_count": null,
   "metadata": {
    "scrolled": true,
    "slideshow": {
     "slide_type": "fragment"
    }
   },
   "outputs": [],
   "source": [
    "// if we want the index of the matching item, use findIndex(): \n",
    "console.log(taleArray1.findIndex(item => {\n",
    "  return item[0] === \"w\";\n",
    "}));"
   ]
  },
  {
   "cell_type": "code",
   "execution_count": null,
   "metadata": {
    "scrolled": true,
    "slideshow": {
     "slide_type": "slide"
    }
   },
   "outputs": [],
   "source": [
    "// if we just want to know whether one or more elements meets our test, we can use some(): \n",
    "console.log(taleArray1.some(item => {\n",
    "    return item[0] === 'w';\n",
    "}));"
   ]
  },
  {
   "cell_type": "code",
   "execution_count": null,
   "metadata": {
    "scrolled": true,
    "slideshow": {
     "slide_type": "fragment"
    }
   },
   "outputs": [],
   "source": [
    "// if we need to be sure that *every* item passes our test, we can use every(): \n",
    "console.log(taleArray1.every(item => {\n",
    "    return item[0] === 'w';\n",
    "}));"
   ]
  },
  {
   "cell_type": "code",
   "execution_count": null,
   "metadata": {
    "scrolled": true,
    "slideshow": {
     "slide_type": "slide"
    }
   },
   "outputs": [],
   "source": [
    "/* if you add an item during your test function, tough luck, \n",
    "find(), findIndex(), some() and every() won't find it */\n",
    "var changedArray = [1, 2, 3];\n",
    "\n",
    "console.log(changedArray.some((item, index) => {\n",
    "    console.log(changedArray);\n",
    "    changedArray.push(index + 4);    \n",
    "    return item === 4;\n",
    "}));"
   ]
  },
  {
   "cell_type": "code",
   "execution_count": null,
   "metadata": {
    "scrolled": true,
    "slideshow": {
     "slide_type": "slide"
    }
   },
   "outputs": [],
   "source": [
    "/* if you *change* an item before find(), findIndex(), some(), or every() get to it, \n",
    "value will be the value at the time the item is visited */\n",
    "\n",
    "console.log(changedArray.some((item, index) => {\n",
    "    console.log(changedArray);\n",
    "    changedArray[index + 1] = 0;  \n",
    "    return item === 2;\n",
    "}));"
   ]
  },
  {
   "cell_type": "code",
   "execution_count": null,
   "metadata": {
    "scrolled": true,
    "slideshow": {
     "slide_type": "slide"
    }
   },
   "outputs": [],
   "source": [
    "// use indexOf() when you know what element you want\n",
    "console.log(taleOfTwoArrays.indexOf('worst'));"
   ]
  },
  {
   "cell_type": "code",
   "execution_count": null,
   "metadata": {
    "scrolled": true,
    "slideshow": {
     "slide_type": "fragment"
    }
   },
   "outputs": [],
   "source": [
    "// returns -1 if it doesn't exist\n",
    "console.log(taleOfTwoArrays.indexOf('whatevs'));"
   ]
  },
  {
   "cell_type": "code",
   "execution_count": null,
   "metadata": {
    "scrolled": true,
    "slideshow": {
     "slide_type": "slide"
    }
   },
   "outputs": [],
   "source": [
    "//HOWEVER: if you are trying to find NaN: \n",
    "var NaNArray = [0, NaN];\n",
    "\n",
    "//indexOf() won't find it: \n",
    "console.log(NaNArray.indexOf(NaN));"
   ]
  },
  {
   "cell_type": "code",
   "execution_count": null,
   "metadata": {
    "scrolled": true,
    "slideshow": {
     "slide_type": "fragment"
    }
   },
   "outputs": [],
   "source": [
    "//findIndex() will:\n",
    "console.log(NaNArray.findIndex(x => Number.isNaN(x)));"
   ]
  },
  {
   "cell_type": "code",
   "execution_count": null,
   "metadata": {
    "scrolled": true,
    "slideshow": {
     "slide_type": "slide"
    }
   },
   "outputs": [],
   "source": [
    "// can give an index to start at; since 'worst' is the 9th element, it won't be found\n",
    "console.log(taleOfTwoArrays.indexOf('worst', 10));"
   ]
  },
  {
   "cell_type": "code",
   "execution_count": null,
   "metadata": {
    "scrolled": true,
    "slideshow": {
     "slide_type": "fragment"
    }
   },
   "outputs": [],
   "source": [
    "// if you start the index > length, the array won't be searched\n",
    "console.log(taleOfTwoArrays.length);\n",
    "console.log(taleOfTwoArrays.indexOf('worst', 121));"
   ]
  },
  {
   "cell_type": "code",
   "execution_count": null,
   "metadata": {
    "scrolled": true,
    "slideshow": {
     "slide_type": "fragment"
    }
   },
   "outputs": [],
   "source": [
    "/* negative index is taken as offset from the end of the array ... \n",
    " if the negative index is greater than the length of the array \n",
    " the whole array will be searched */\n",
    "console.log(taleOfTwoArrays.indexOf('was', -121));"
   ]
  },
  {
   "cell_type": "code",
   "execution_count": null,
   "metadata": {
    "scrolled": true,
    "slideshow": {
     "slide_type": "slide"
    }
   },
   "outputs": [],
   "source": [
    "// lastIndexOf is like indexOf, but it searches from the end\n",
    "console.log(taleOfTwoArrays.lastIndexOf('was'));"
   ]
  },
  {
   "cell_type": "code",
   "execution_count": null,
   "metadata": {
    "scrolled": true,
    "slideshow": {
     "slide_type": "fragment"
    }
   },
   "outputs": [],
   "source": [
    "// if the negative index > length of the array, the array won't be searched\n",
    "console.log(taleOfTwoArrays.lastIndexOf('was', -122));"
   ]
  },
  {
   "cell_type": "code",
   "execution_count": null,
   "metadata": {
    "scrolled": true,
    "slideshow": {
     "slide_type": "slide"
    }
   },
   "outputs": [],
   "source": [
    "/* if you just want to know if your array includes an element, \n",
    "but you don't care where it is, use includes(): */\n",
    "console.log(taleArray1.includes('Heaven'));"
   ]
  },
  {
   "cell_type": "code",
   "execution_count": null,
   "metadata": {
    "scrolled": true,
    "slideshow": {
     "slide_type": "slide"
    }
   },
   "outputs": [],
   "source": [
    "/* use filter() when you want a new array consisting just of elements \n",
    "that match your function */\n",
    "var wWords = taleOfTwoArrays.filter(item => {\n",
    "    return item[0] === 'w';\n",
    "});\n",
    "\n",
    "console.log(wWords);"
   ]
  },
  {
   "cell_type": "code",
   "execution_count": null,
   "metadata": {
    "scrolled": true,
    "slideshow": {
     "slide_type": "slide"
    }
   },
   "outputs": [],
   "source": [
    "// you can sort your arrays with (you guessed it) sort():\n",
    "console.log(wWords.sort());"
   ]
  },
  {
   "cell_type": "code",
   "execution_count": null,
   "metadata": {
    "scrolled": true,
    "slideshow": {
     "slide_type": "fragment"
    }
   },
   "outputs": [],
   "source": [
    "// watch out: sort() is according to string Unicode code points\n",
    "var mixedUpArray = [2, 10, 'four', 'Four'];\n",
    "console.log(mixedUpArray.sort());\n",
    "\n",
    "/* this is called 'lexicographic' sort ...\n",
    "but I am actually a lexicographer and we don't sort this way  ¯\\_(ツ)_/¯ */"
   ]
  },
  {
   "cell_type": "code",
   "execution_count": null,
   "metadata": {
    "scrolled": true,
    "slideshow": {
     "slide_type": "slide"
    }
   },
   "outputs": [],
   "source": [
    "// the new Set object in ES6 makes it easier to get arrays of unique elements!\n",
    "var uniqueWWords = Array.from(new Set(wWords));\n",
    "console.log(uniqueWWords);"
   ]
  },
  {
   "cell_type": "code",
   "execution_count": null,
   "metadata": {
    "scrolled": true,
    "slideshow": {
     "slide_type": "fragment"
    }
   },
   "outputs": [],
   "source": [
    "// you can also use the 'spread' (...) operator: \n",
    "console.log([...new Set(wWords)]);"
   ]
  },
  {
   "cell_type": "code",
   "execution_count": null,
   "metadata": {
    "scrolled": true,
    "slideshow": {
     "slide_type": "slide"
    }
   },
   "outputs": [],
   "source": [
    "// reverse an array with ... wait for it ... reverse():\n",
    "console.log(lotsOfSheep);\n",
    "console.log(lotsOfSheep.reverse());"
   ]
  },
  {
   "cell_type": "code",
   "execution_count": null,
   "metadata": {
    "scrolled": true,
    "slideshow": {
     "slide_type": "fragment"
    }
   },
   "outputs": [],
   "source": [
    "/* supposedly reversing a string is something people are asked to do in interviews, \n",
    "so here you go: */\n",
    "function reverse(str) {\n",
    "    return str.split(\"\").reverse().join(\"\");\n",
    "}\n",
    "\n",
    "console.log(\"Here's the reverse of 'reverse': \" + reverse('reverse'));"
   ]
  },
  {
   "cell_type": "markdown",
   "metadata": {
    "slideshow": {
     "slide_type": "slide"
    }
   },
   "source": [
    "### Iterating"
   ]
  },
  {
   "cell_type": "code",
   "execution_count": null,
   "metadata": {
    "scrolled": true,
    "slideshow": {
     "slide_type": "slide"
    }
   },
   "outputs": [],
   "source": [
    "// array.forEach() means never having to write out i=0, i++ again:\n",
    "\n",
    "uniqueWWords.forEach(item => {\n",
    "    console.log(item, item.length);\n",
    "});"
   ]
  },
  {
   "cell_type": "code",
   "execution_count": null,
   "metadata": {
    "scrolled": true,
    "slideshow": {
     "slide_type": "slide"
    }
   },
   "outputs": [],
   "source": [
    "//remember, forEach() doesn't return anything:\n",
    "\n",
    "var x = uniqueWWords.forEach(item => {\n",
    "    item;\n",
    "});\n",
    "\n",
    "console.log(x);"
   ]
  },
  {
   "cell_type": "code",
   "execution_count": null,
   "metadata": {
    "scrolled": true,
    "slideshow": {
     "slide_type": "slide"
    }
   },
   "outputs": [],
   "source": [
    "// map() creates a new array by applying your function to each member of an array:\n",
    "\n",
    "var capWords = uniqueWWords.map(item => {\n",
    "    return item.toUpperCase();\n",
    "});\n",
    "\n",
    "console.log(capWords);"
   ]
  },
  {
   "cell_type": "code",
   "execution_count": null,
   "metadata": {
    "scrolled": true,
    "slideshow": {
     "slide_type": "slide"
    }
   },
   "outputs": [],
   "source": [
    "// reduce() smushes an array to a single value, using a function of your choice\n",
    "\n",
    "var smushed = capWords.reduce(function(accumulator, currentValue){\n",
    "// this is a reasonable place to use the ternary operator    \n",
    "    return accumulator.length > currentValue.length ? accumulator : currentValue;\n",
    "});\n",
    "\n",
    "console.log(\"The longest item in capWords is: '\"+ smushed + \"'.\");\n",
    "\n",
    "//reduceRight() smushes starting from the other end  ¯\\_(ツ)_/¯"
   ]
  },
  {
   "cell_type": "markdown",
   "metadata": {
    "slideshow": {
     "slide_type": "slide"
    }
   },
   "source": [
    "### Entries, Keys"
   ]
  },
  {
   "cell_type": "code",
   "execution_count": null,
   "metadata": {
    "scrolled": true,
    "slideshow": {
     "slide_type": "fragment"
    }
   },
   "outputs": [],
   "source": [
    "var sparseArray = [1, , 3, 4, undefined];\n",
    "\n",
    "// forEach() doesn't operate on null values\n",
    "sparseArray.forEach(item=>{\n",
    "    console.log(item);\n",
    "})"
   ]
  },
  {
   "cell_type": "code",
   "execution_count": null,
   "metadata": {
    "scrolled": true,
    "slideshow": {
     "slide_type": "slide"
    }
   },
   "outputs": [],
   "source": [
    "// but entries() will \n",
    "var iterator = sparseArray.entries();\n",
    "for (let item of iterator) {\n",
    "  console.log(item);\n",
    "}"
   ]
  },
  {
   "cell_type": "code",
   "execution_count": null,
   "metadata": {
    "scrolled": true,
    "slideshow": {
     "slide_type": "slide"
    }
   },
   "outputs": [],
   "source": [
    "//Object.keys doesn't like holes in your arrays:\n",
    "console.log(\"Here are the keys from Object.keys: \" + Object.keys(sparseArray));"
   ]
  },
  {
   "cell_type": "code",
   "execution_count": null,
   "metadata": {
    "scrolled": true,
    "slideshow": {
     "slide_type": "fragment"
    }
   },
   "outputs": [],
   "source": [
    "// but keys() will handle them \n",
    "var keyIterator = sparseArray.keys();\n",
    "for (let key of keyIterator){\n",
    "    console.log(key)\n",
    "}\n",
    "\n",
    "//values() works the same way but it's not supported in browsers yet so I can't show you :( "
   ]
  },
  {
   "cell_type": "markdown",
   "metadata": {
    "slideshow": {
     "slide_type": "slide"
    }
   },
   "source": [
    "### The biggest gotcha of all"
   ]
  },
  {
   "cell_type": "markdown",
   "metadata": {
    "slideshow": {
     "slide_type": "fragment"
    }
   },
   "source": [
    "<div style=\"width: 700px;\">\n",
    "    <div style=\"width: 900px; height: 700px;\" ><div style=\"text-align: center\"><img src=\"images/speedgauge-kristyfox-ccbysa20.jpg\" alt=\"semicolon sticker\" style=\"width: 540px;\"/></div><br><p style=\"text-align: right; font-size: small\"> image by kristyfox CC-BY-SA 2.0 @Flickr\n",
    "</div>\n",
    "</div>"
   ]
  },
  {
   "cell_type": "markdown",
   "metadata": {
    "slideshow": {
     "slide_type": "slide"
    }
   },
   "source": [
    "### But Wait! There's More!\n",
    "\n",
    "* MDN web docs should be your first stop:  https://developer.mozilla.org/en-US/docs/Web/JavaScript/Reference\n",
    "*  *JavaScript, The Good Parts*, Douglas Crockford (Yahoo Press, 2008)\n",
    "*  *Learning JavaScript, 3e*, Ethan Brown (O'Reilly, 2016)\n",
    "*  *You Don't Know JS [series]*, Kyle Simpson (O'Reilly, 2014) \n",
    "*  *Practical Modern JavaScript*, Nicolas Bevacqua (O'Reilly, 2017)\n",
    "*  *Exploring ES6*, Axel Rauschmayer (2017)\n"
   ]
  },
  {
   "cell_type": "markdown",
   "metadata": {
    "slideshow": {
     "slide_type": "slide"
    }
   },
   "source": [
    "<div style=\"width: 900px;\">\n",
    "    <div style=\"width: 900px; height: 700px;\" ><div style=\"text-align: center\"><img src=\"images/semicolon-sticker.jpg\" alt=\"semicolon sticker\" style=\"width: 700px;\"/></div>\n",
    "</div>\n",
    "</div>"
   ]
  },
  {
   "cell_type": "markdown",
   "metadata": {
    "slideshow": {
     "slide_type": "slide"
    }
   },
   "source": [
    "<div style=\"width: 900px;\">\n",
    "    \n",
    "    <div style=\"width: 550px; height: 450px; float: left;\" ><div style=\"text-align: center\"><img src=\"images/thankyoubot.png\" alt=\"thankful robot\" style=\"width: 500px;\"/></div>\n",
    "</div>\n",
    "<div style=\"width: 10px; height: 300px; float: left;\"></div>\n",
    "    <div style=\"width: 150px; height: 300px; float: left;\"><div style=\"text-align: left; font-size: large; font-family: serif\">\n",
    "    <br>\n",
    "    <br>\n",
    "    <br>\n",
    "    <br>\n",
    "    <br>\n",
    "    <br>\n",
    "    <br>\n",
    "    <br>\n",
    "    <br>\n",
    "    twitter: @emckean\n",
    "    <br>\n",
    "    github: emckean</div></div></div>\n",
    "    </div>\n",
    "</div>"
   ]
  },
  {
   "cell_type": "code",
   "execution_count": null,
   "metadata": {
    "collapsed": true,
    "scrolled": true,
    "slideshow": {
     "slide_type": "skip"
    }
   },
   "outputs": [],
   "source": [
    "// changing the array prototype\n",
    "if (!Array.prototype.first) {\n",
    "  Array.prototype.first = function() {\n",
    "    return this[0];\n",
    "  }\n",
    "}\n",
    "console.log(countingSheep.first());\n"
   ]
  }
 ],
 "metadata": {
  "celltoolbar": "Slideshow",
  "kernelspec": {
   "display_name": "NodeJS",
   "language": "javascript",
   "name": "nodejs"
  },
  "language_info": {
   "codemirror_mode": "javascript",
   "file_extension": ".js",
   "mimetype": "text/javascript",
   "name": "nodejs",
   "pygments_lexer": "javascript",
   "version": "0.10"
  }
 },
 "nbformat": 4,
 "nbformat_minor": 2
}
